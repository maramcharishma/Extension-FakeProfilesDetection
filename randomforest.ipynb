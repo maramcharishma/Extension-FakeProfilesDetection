{
 "cells": [
  {
   "cell_type": "code",
   "execution_count": 1,
   "id": "abb91649",
   "metadata": {},
   "outputs": [],
   "source": [
    "import sys\n",
    "import csv\n",
    "import datetime\n",
    "import numpy as np\n",
    "import pandas as pd\n",
    "import matplotlib.pyplot as plt\n",
    "from datetime import datetime\n",
    "from sklearn.model_selection import cross_validate\n",
    "from sklearn.model_selection import train_test_split\n",
    "from sklearn import metrics\n",
    "from sklearn import preprocessing\n",
    "from sklearn.metrics import roc_curve, auc\n",
    "from  sklearn.ensemble import RandomForestClassifier\n",
    "from sklearn.model_selection import StratifiedKFold\n",
    "from sklearn.model_selection import GridSearchCV\n",
    "from sklearn.metrics import accuracy_score\n",
    "from sklearn.model_selection import cross_val_score\n",
    "from sklearn.model_selection import learning_curve    \n",
    "from sklearn.metrics import classification_report\n",
    "from sklearn.metrics import confusion_matrix\n",
    "from sklearn.svm import SVC\n",
    "%matplotlib inline"
   ]
  },
  {
   "cell_type": "code",
   "execution_count": 13,
   "id": "cc41346e",
   "metadata": {},
   "outputs": [
    {
     "name": "stdout",
     "output_type": "stream",
     "text": [
      "1337 1481\n"
     ]
    }
   ],
   "source": [
    "def read_datasets():\n",
    "    \"\"\" Reads users profile from csv files \"\"\"\n",
    "    genuine_users = pd.read_csv(\"C:\\\\Users\\\\Rachel Reddy\\\\OneDrive\\\\Documents\\\\project\\\\data\\\\users.csv\")\n",
    "    fake_users = pd.read_csv(\"C:\\\\Users\\\\Rachel Reddy\\\\OneDrive\\\\Documents\\\\project\\\\data\\\\fusers.csv\")\n",
    "    # print genuine_users.columns\n",
    "    # print genuine_users.describe()\n",
    "    #print fake_users.describe()\n",
    "    x=pd.concat([genuine_users,fake_users])   \n",
    "    y=len(fake_users)*[0] + len(genuine_users)*[1]\n",
    "    print(len(fake_users),len(genuine_users))\n",
    "    return x,y\n",
    "x,y=read_datasets()"
   ]
  },
  {
   "cell_type": "code",
   "execution_count": 14,
   "id": "b9726361",
   "metadata": {},
   "outputs": [
    {
     "name": "stdout",
     "output_type": "stream",
     "text": [
      "      statuses_count  followers_count  friends_count  favourites_count  \\\n",
      "0              20370             5470           2385               145   \n",
      "1               3131              506            381                 9   \n",
      "2               4024              264             87               323   \n",
      "3              40586              640            622              1118   \n",
      "4               2016               62             64                13   \n",
      "...              ...              ...            ...               ...   \n",
      "1332               1                0             17                 0   \n",
      "1333               0                1             17                 0   \n",
      "1334               2                0             15                 0   \n",
      "1335               2                0             16                 0   \n",
      "1336               0                0             17                 0   \n",
      "\n",
      "      listed_count  Reported_count  \n",
      "0               52               1  \n",
      "1               40               1  \n",
      "2               16               1  \n",
      "3               32               1  \n",
      "4                0               1  \n",
      "...            ...             ...  \n",
      "1332             0             812  \n",
      "1333             0             812  \n",
      "1334             0             812  \n",
      "1335             0             812  \n",
      "1336             0             812  \n",
      "\n",
      "[2818 rows x 6 columns]\n"
     ]
    }
   ],
   "source": [
    "x = x[[\n",
    "    \"statuses_count\",\n",
    "    \"followers_count\",\n",
    "    \"friends_count\",\n",
    "    \"favourites_count\",\n",
    "    \"listed_count\",\"Reported_count\"       ]]\n",
    "print(x)"
   ]
  },
  {
   "cell_type": "code",
   "execution_count": 15,
   "id": "a936af0c",
   "metadata": {},
   "outputs": [],
   "source": [
    "def plot_learning_curve(estimator, title, X, y, ylim=None, cv=None,\n",
    "                        n_jobs=1, train_sizes=np.linspace(.1, 1.0, 5)):\n",
    "    \n",
    "    plt.figure()\n",
    "    plt.title(title)\n",
    "    if ylim is not None:\n",
    "        plt.ylim(*ylim)\n",
    "    plt.xlabel(\"Training examples\")\n",
    "    plt.ylabel(\"Score\")\n",
    "    train_sizes, train_scores, test_scores = learning_curve(\n",
    "        estimator, X, y, cv=cv, n_jobs=n_jobs, train_sizes=train_sizes)\n",
    "    train_scores_mean = np.mean(train_scores, axis=1)\n",
    "    train_scores_std = np.std(train_scores, axis=1)\n",
    "    test_scores_mean = np.mean(test_scores, axis=1)\n",
    "    test_scores_std = np.std(test_scores, axis=1)\n",
    "    plt.grid()\n",
    "\n",
    "    plt.fill_between(train_sizes, train_scores_mean - train_scores_std,\n",
    "                     train_scores_mean + train_scores_std, alpha=0.1,\n",
    "                     color=\"r\")\n",
    "    plt.fill_between(train_sizes, test_scores_mean - test_scores_std,\n",
    "                     test_scores_mean + test_scores_std, alpha=0.1, color=\"g\")\n",
    "    plt.plot(train_sizes, train_scores_mean, 'o-', color=\"r\",\n",
    "             label=\"Training score\")\n",
    "    plt.plot(train_sizes, test_scores_mean, 'o-', color=\"g\",\n",
    "             label=\"Cross-validation score\")\n",
    "\n",
    "    plt.legend(loc=\"best\")\n",
    "    return plt"
   ]
  },
  {
   "cell_type": "code",
   "execution_count": 16,
   "id": "bbc6156b",
   "metadata": {},
   "outputs": [
    {
     "name": "stdout",
     "output_type": "stream",
     "text": [
      "The best classifier is:  RandomForestClassifier(n_estimators=40, oob_score=True)\n",
      "[0.94678492 0.96674058 0.96674058 0.96230599 0.95555556]\n",
      "Estimated score: 0.95963 (+/- 0.00381)\n"
     ]
    },
    {
     "data": {
      "image/png": "[encoded data removed]",
      "text/plain": [
       "<Figure size 432x288 with 1 Axes>"
      ]
     },
     "metadata": {
      "needs_background": "light"
     },
     "output_type": "display_data"
    }
   ],
   "source": [
    "x_train,x_test,y_train,y_test = train_test_split(x, y, test_size=0.20, random_state=44)\n",
    "clf=RandomForestClassifier(n_estimators=40,oob_score=True)\n",
    "clf.fit(x_train,y_train)\n",
    "print(\"The best classifier is: \",clf)\n",
    "# Estimate score\n",
    "scores = cross_val_score(clf, x_train,y_train, cv=5)\n",
    "print(scores)\n",
    "print('Estimated score: %0.5f (+/- %0.5f)' % (scores.mean(), scores.std() / 2))\n",
    "title = 'Learning Curves (Random Forest)'\n",
    "plot_learning_curve(clf, title, x_train, y_train, cv=5)\n",
    "plt.show()\n",
    "# Predict \n",
    "y_pred = clf.predict(x_test)\n",
    "# print(y_test,y_pred)"
   ]
  },
  {
   "cell_type": "code",
   "execution_count": 17,
   "id": "31e93638",
   "metadata": {},
   "outputs": [
    {
     "name": "stdout",
     "output_type": "stream",
     "text": [
      "0.9609929078014184\n"
     ]
    }
   ],
   "source": [
    "from sklearn.metrics import accuracy_score\n",
    "print(accuracy_score(y_test,y_pred))"
   ]
  },
  {
   "cell_type": "code",
   "execution_count": 18,
   "id": "bb386077",
   "metadata": {},
   "outputs": [],
   "source": [
    "def plot_confusion_matrix(cm, title='Confusion matrix', cmap=plt.cm.Blues):\n",
    "    target_names=['Fake','Genuine']\n",
    "    plt.imshow(cm, interpolation='nearest', cmap=cmap)\n",
    "    plt.title(title)\n",
    "    plt.colorbar()\n",
    "    tick_marks = np.arange(len(target_names))\n",
    "    plt.xticks(tick_marks, target_names, rotation=45)\n",
    "    plt.yticks(tick_marks, target_names)\n",
    "    plt.tight_layout()\n",
    "    plt.ylabel('True label')\n",
    "    plt.xlabel('Predicted label')"
   ]
  },
  {
   "cell_type": "code",
   "execution_count": 19,
   "id": "a1cbc510",
   "metadata": {},
   "outputs": [
    {
     "name": "stdout",
     "output_type": "stream",
     "text": [
      "Confusion matrix, without normalization\n",
      "[[257  11]\n",
      " [ 11 285]]\n"
     ]
    },
    {
     "data": {
      "image/png": "[encoded data removed]",
      "text/plain": [
       "<Figure size 432x288 with 2 Axes>"
      ]
     },
     "metadata": {
      "needs_background": "light"
     },
     "output_type": "display_data"
    }
   ],
   "source": [
    "cm=confusion_matrix(y_test, y_pred)\n",
    "print('Confusion matrix, without normalization')\n",
    "print(cm)\n",
    "plot_confusion_matrix(cm)"
   ]
  },
  {
   "cell_type": "code",
   "execution_count": 20,
   "id": "cf2d3b82",
   "metadata": {},
   "outputs": [
    {
     "name": "stdout",
     "output_type": "stream",
     "text": [
      "Normalized confusion matrix\n",
      "[[0.95895522 0.04104478]\n",
      " [0.03716216 0.96283784]]\n"
     ]
    },
    {
     "data": {
      "image/png": "[encoded data removed]",
      "text/plain": [
       "<Figure size 432x288 with 2 Axes>"
      ]
     },
     "metadata": {
      "needs_background": "light"
     },
     "output_type": "display_data"
    }
   ],
   "source": [
    "cm_normalized = cm.astype('float') / cm.sum(axis=1)[:, np.newaxis]\n",
    "print('Normalized confusion matrix')\n",
    "print(cm_normalized)\n",
    "plot_confusion_matrix(cm_normalized, title='Normalized confusion matrix')"
   ]
  },
  {
   "cell_type": "code",
   "execution_count": 21,
   "id": "530e7170",
   "metadata": {},
   "outputs": [
    {
     "name": "stdout",
     "output_type": "stream",
     "text": [
      "              precision    recall  f1-score   support\n",
      "\n",
      "        Fake       0.96      0.96      0.96       268\n",
      "     Genuine       0.96      0.96      0.96       296\n",
      "\n",
      "    accuracy                           0.96       564\n",
      "   macro avg       0.96      0.96      0.96       564\n",
      "weighted avg       0.96      0.96      0.96       564\n",
      "\n"
     ]
    }
   ],
   "source": [
    "print(classification_report(y_test, y_pred, target_names=['Fake','Genuine']))"
   ]
  },
  {
   "cell_type": "code",
   "execution_count": 22,
   "id": "c359ef1d",
   "metadata": {},
   "outputs": [],
   "source": [
    "def plot_roc_curve(y_test, y_pred):\n",
    "    false_positive_rate, true_positive_rate, thresholds = roc_curve(y_test, y_pred)\n",
    "\n",
    "    print(\"False Positive rate: \",false_positive_rate)\n",
    "    print(\"True Positive rate: \",true_positive_rate)\n",
    "\n",
    "\n",
    "    roc_auc = auc(false_positive_rate, true_positive_rate)\n",
    "\n",
    "    plt.title('Receiver Operating Characteristic')\n",
    "    plt.plot(false_positive_rate, true_positive_rate, 'b',\n",
    "    label='AUC = %0.2f'% roc_auc)\n",
    "    plt.legend(loc='lower right')\n",
    "    plt.plot([0,1],[0,1],'r--')\n",
    "    plt.xlim([-0.1,1.2])\n",
    "    plt.ylim([-0.1,1.2])\n",
    "    plt.ylabel('True Positive Rate')\n",
    "    plt.xlabel('False Positive Rate')\n",
    "    plt.show()"
   ]
  },
  {
   "cell_type": "code",
   "execution_count": 12,
   "id": "4d35c7bf",
   "metadata": {},
   "outputs": [
    {
     "name": "stdout",
     "output_type": "stream",
     "text": [
      "False Positive rate:  [0. 0. 1.]\n",
      "True Positive rate:  [0. 1. 1.]\n"
     ]
    },
    {
     "data": {
      "image/png": "[encoded data removed]",
      "text/plain": [
       "<Figure size 432x288 with 1 Axes>"
      ]
     },
     "metadata": {
      "needs_background": "light"
     },
     "output_type": "display_data"
    }
   ],
   "source": [
    " plot_roc_curve(y_test, y_pred)"
   ]
  },
  {
   "cell_type": "code",
   "execution_count": null,
   "id": "415218ec",
   "metadata": {},
   "outputs": [],
   "source": []
  }
 ],
 "metadata": {
  "kernelspec": {
   "display_name": "Python 3 (ipykernel)",
   "language": "python",
   "name": "python3"
  },
  "language_info": {
   "codemirror_mode": {
    "name": "ipython",
    "version": 3
   },
   "file_extension": ".py",
   "mimetype": "text/x-python",
   "name": "python",
   "nbconvert_exporter": "python",
   "pygments_lexer": "ipython3",
   "version": "3.9.7"
  }
 },
 "nbformat": 4,
 "nbformat_minor": 5
}
